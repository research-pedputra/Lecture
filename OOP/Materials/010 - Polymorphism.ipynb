{
  "cells": [
    {
      "cell_type": "markdown",
      "id": "fb21ca75-071a-4a2b-9082-4a00b7afa6c6",
      "metadata": {
        "id": "fb21ca75-071a-4a2b-9082-4a00b7afa6c6"
      },
      "source": [
        "# Python Polymorphism"
      ]
    },
    {
      "cell_type": "markdown",
      "id": "74dc744c-de5f-4b9a-8c9e-7ad622638bb7",
      "metadata": {
        "id": "74dc744c-de5f-4b9a-8c9e-7ad622638bb7"
      },
      "source": [
        "In python world, the `polymorphism` means having the same interface/attributes in different classes.\n",
        "<p> Polymorphism is the characteristic of being able to assign a different meaning or usage in different contexts. A not-so-clear/clean example is, different classes can have the same function name.</p>"
      ]
    },
    {
      "cell_type": "markdown",
      "source": [
        "#### Basic Example to Addition/Summation Operator"
      ],
      "metadata": {
        "id": "EkoeRpwH5EQw"
      },
      "id": "EkoeRpwH5EQw"
    },
    {
      "cell_type": "code",
      "source": [
        "data1 = 1\n",
        "data2 = 3\n",
        "\n",
        "print(data1+data2)"
      ],
      "metadata": {
        "colab": {
          "base_uri": "https://localhost:8080/"
        },
        "id": "MOYux5qT5Q1j",
        "outputId": "bd2f6408-1bec-4031-f7aa-e0fe2893583b"
      },
      "id": "MOYux5qT5Q1j",
      "execution_count": 1,
      "outputs": [
        {
          "output_type": "stream",
          "name": "stdout",
          "text": [
            "4\n"
          ]
        }
      ]
    },
    {
      "cell_type": "code",
      "source": [
        "string1 = \"I Love\"\n",
        "string2 = \" You\"\n",
        "\n",
        "print(string1 + string2)"
      ],
      "metadata": {
        "colab": {
          "base_uri": "https://localhost:8080/"
        },
        "id": "-RMzJ7L-5pFS",
        "outputId": "f45055af-c293-46ee-bf9e-edd206260adf"
      },
      "id": "-RMzJ7L-5pFS",
      "execution_count": 3,
      "outputs": [
        {
          "output_type": "stream",
          "name": "stdout",
          "text": [
            "I Love You\n"
          ]
        }
      ]
    },
    {
      "cell_type": "markdown",
      "source": [
        "The \"+\" bring the same functions to the data summations. Note, for numbers we called it summations, for string data, we called it concanating."
      ],
      "metadata": {
        "id": "Unt8uuj_B65l"
      },
      "id": "Unt8uuj_B65l"
    },
    {
      "cell_type": "markdown",
      "source": [
        "## The Function of Polymorphism in Python"
      ],
      "metadata": {
        "id": "5NAvubZm6Z21"
      },
      "id": "5NAvubZm6Z21"
    },
    {
      "cell_type": "markdown",
      "source": [
        "#### Polymorphic len() function"
      ],
      "metadata": {
        "id": "lgphIa4V6kfQ"
      },
      "id": "lgphIa4V6kfQ"
    },
    {
      "cell_type": "code",
      "source": [
        "print(len(\"Programiz\"))\n",
        "print(len([\"Python\", \"Java\", \"C\"]))\n",
        "print(len({\"Name\": \"John\", \"Address\": \"Nepal\"}))"
      ],
      "metadata": {
        "colab": {
          "base_uri": "https://localhost:8080/"
        },
        "id": "3_pB_otx6p4K",
        "outputId": "b4bbe5eb-b2c1-4827-8a76-03930d7cd3b4"
      },
      "id": "3_pB_otx6p4K",
      "execution_count": 4,
      "outputs": [
        {
          "output_type": "stream",
          "name": "stdout",
          "text": [
            "9\n",
            "3\n",
            "2\n"
          ]
        }
      ]
    },
    {
      "cell_type": "markdown",
      "source": [
        "len() function is a build in class in python but brings the same functions across many type of data operations."
      ],
      "metadata": {
        "id": "LpvTiG-GDYVO"
      },
      "id": "LpvTiG-GDYVO"
    },
    {
      "cell_type": "markdown",
      "source": [
        "#### User-defined polymorphic functions"
      ],
      "metadata": {
        "id": "UjXdL35y_foG"
      },
      "id": "UjXdL35y_foG"
    },
    {
      "cell_type": "code",
      "source": [
        "def add(x, y, z=0):\n",
        "\treturn x + y + z\n",
        "\n",
        "print(add(2, 3))\n",
        "print(add(2, 3, 4))\n"
      ],
      "metadata": {
        "colab": {
          "base_uri": "https://localhost:8080/"
        },
        "id": "oBCFp9yE_gIy",
        "outputId": "26bc3a33-8977-4f9e-d4f6-479b3eb6b85f"
      },
      "id": "oBCFp9yE_gIy",
      "execution_count": 12,
      "outputs": [
        {
          "output_type": "stream",
          "name": "stdout",
          "text": [
            "5\n",
            "9\n"
          ]
        }
      ]
    },
    {
      "cell_type": "markdown",
      "source": [
        "#### Polymorphic in Class Method"
      ],
      "metadata": {
        "id": "c1XcpSMI7Tnb"
      },
      "id": "c1XcpSMI7Tnb"
    },
    {
      "cell_type": "markdown",
      "id": "102dc8b5-c7a5-4afe-8740-fcd94873b3d9",
      "metadata": {
        "id": "102dc8b5-c7a5-4afe-8740-fcd94873b3d9"
      },
      "source": [
        "Look at the following example, the class Dog and Cat has the same method named `show_affection` Even if they are same, both does different actions in the instance."
      ]
    },
    {
      "cell_type": "code",
      "execution_count": null,
      "id": "630eed15-ffe1-4969-8a3a-9dcfa9c835e9",
      "metadata": {
        "tags": [],
        "id": "630eed15-ffe1-4969-8a3a-9dcfa9c835e9",
        "outputId": "bcbf41f7-8776-4ea8-bc0e-f5ebbd063e28"
      },
      "outputs": [
        {
          "name": "stdout",
          "output_type": "stream",
          "text": [
            "Luluk wags tail\n",
            "Manis purrs\n",
            "Zoro purrs\n",
            "Momo wags tail\n"
          ]
        }
      ],
      "source": [
        "class Animal(object):\n",
        "    def __init__(self, name):\n",
        "        self.name = name\n",
        "    def eat(self, food):\n",
        "        print(\"{0} eats {1}\".format(self.name, food))\n",
        "\n",
        "class Dog(Animal):\n",
        "    def fetch(self, thing):\n",
        "        print(\"{0} goes after the {1}!\".format(self.name, thing))\n",
        "    def show_affection(self):\n",
        "        print(\"{0} wags tail\".format(self.name))\n",
        "\n",
        "class Cat(Animal):\n",
        "    def swatstring(self):\n",
        "        print(\"{0} shreds more string\".format(self.name))\n",
        "    def show_affection(self):\n",
        "        print(\"{0} purrs\".format(self.name))\n",
        "\n",
        "for a in (Dog(\"Luluk\"), Cat(\"Manis\"), Cat(\"Zoro\"), Dog(\"Momo\")):\n",
        "    a.show_affection()"
      ]
    },
    {
      "cell_type": "markdown",
      "source": [
        "### Polymorphic as Method Overriding"
      ],
      "metadata": {
        "id": "blgkjb228z0J"
      },
      "id": "blgkjb228z0J"
    },
    {
      "cell_type": "markdown",
      "source": [
        "In python, the child classes can inherit methods and attributes from the parent class. We can redefine certain methods and attributes specifically to fit the child class, which is known as `Method Overriding`.\n",
        "\n",
        "`Polymorphism` allows us to access these `overridden methods` and `attributes` that have the same __name__ as the parent class."
      ],
      "metadata": {
        "id": "_hy3RWPG-vkb"
      },
      "id": "_hy3RWPG-vkb"
    },
    {
      "cell_type": "code",
      "source": [
        "from math import pi\n",
        "\n",
        "class Shape:\n",
        "    def __init__(self, name):\n",
        "        self.name = name\n",
        "    def area(self):\n",
        "        pass\n",
        "    def fact(self):\n",
        "        return \"I am a two-dimensional shape.\"\n",
        "    def __str__(self):\n",
        "        return self.name\n",
        "\n",
        "class Square(Shape):\n",
        "    def __init__(self, length):\n",
        "        super().__init__(\"Square\")\n",
        "        self.length = length\n",
        "    def area(self):\n",
        "        return self.length**2\n",
        "    def fact(self):\n",
        "        return \"Squares have each angle equal to 90 degrees.\"\n",
        "\n",
        "class Circle(Shape):\n",
        "    def __init__(self, radius):\n",
        "        super().__init__(\"Circle\")\n",
        "        self.radius = radius\n",
        "    def area(self):\n",
        "        return pi*self.radius**2\n",
        "\n",
        "a = Square(4)\n",
        "b = Circle(7)\n",
        "print(a)\n",
        "print(a.fact())\n",
        "print(a.area())"
      ],
      "metadata": {
        "colab": {
          "base_uri": "https://localhost:8080/"
        },
        "id": "f0G1NU5h8ywu",
        "outputId": "987a886f-7285-4501-e36f-1fdea7b9a284"
      },
      "id": "f0G1NU5h8ywu",
      "execution_count": 9,
      "outputs": [
        {
          "output_type": "stream",
          "name": "stdout",
          "text": [
            "Square\n",
            "Squares have each angle equal to 90 degrees.\n",
            "16\n"
          ]
        }
      ]
    },
    {
      "cell_type": "markdown",
      "source": [
        "## Extended Example to Polymorphism in Python OOP"
      ],
      "metadata": {
        "id": "fGL-an3DA6Ft"
      },
      "id": "fGL-an3DA6Ft"
    },
    {
      "cell_type": "code",
      "execution_count": 13,
      "id": "cf8c407c-a712-4c62-9544-17f0c9655953",
      "metadata": {
        "colab": {
          "base_uri": "https://localhost:8080/"
        },
        "id": "cf8c407c-a712-4c62-9544-17f0c9655953",
        "outputId": "06ae2fe4-1f01-4160-cd5e-d669fd69b19a"
      },
      "outputs": [
        {
          "output_type": "stream",
          "name": "stdout",
          "text": [
            "Parrot can fly\n",
            "Penguin can't fly\n"
          ]
        }
      ],
      "source": [
        "class Parrot:\n",
        "\n",
        "    def fly(self):\n",
        "        print(\"Parrot can fly\")\n",
        "\n",
        "    def swim(self):\n",
        "        print(\"Parrot can't swim\")\n",
        "\n",
        "class Penguin:\n",
        "\n",
        "    def fly(self):\n",
        "        print(\"Penguin can't fly\")\n",
        "\n",
        "    def swim(self):\n",
        "        print(\"Penguin can swim\")\n",
        "\n",
        "# common interface\n",
        "def flying_test(bird):\n",
        "    bird.fly()\n",
        "\n",
        "#instantiate objects\n",
        "blu = Parrot()\n",
        "peggy = Penguin()\n",
        "\n",
        "# passing the object\n",
        "flying_test(blu)\n",
        "flying_test(peggy)"
      ]
    },
    {
      "cell_type": "code",
      "execution_count": null,
      "id": "db444eac-c1b0-45e3-a2e4-acee5271634c",
      "metadata": {
        "tags": [],
        "id": "db444eac-c1b0-45e3-a2e4-acee5271634c",
        "outputId": "527cba80-4ec6-49bc-bedc-fe9592231882"
      },
      "outputs": [
        {
          "name": "stdout",
          "output_type": "stream",
          "text": [
            "I am a cat. My name is Kitty. I am 2.5 years old.\n",
            "I am a dog. My name is Fluffy. I am 4 years old.\n"
          ]
        }
      ],
      "source": [
        "class Cat:\n",
        "    def __init__(self, name, age):\n",
        "        self.name = name\n",
        "        self.age = age\n",
        "    def info(self):\n",
        "        print(f\"I am a cat. My name is {self.name}. I am {self.age} years old.\")\n",
        "class Dog:\n",
        "    def __init__(self, name, age):\n",
        "        self.name = name\n",
        "        self.age = age\n",
        "    def info(self):\n",
        "        print(f\"I am a dog. My name is {self.name}. I am {self.age} years old.\")\n",
        "cat1 = Cat(\"Kitty\", 2.5)\n",
        "dog1 = Dog(\"Fluffy\", 4)\n",
        "for animal in (cat1, dog1):\n",
        "    animal.info()\n",
        "\n"
      ]
    },
    {
      "cell_type": "code",
      "execution_count": null,
      "id": "f0577ee1-1235-4313-9a0d-c56ca7fda77f",
      "metadata": {
        "tags": [],
        "id": "f0577ee1-1235-4313-9a0d-c56ca7fda77f",
        "outputId": "78d751b2-cc2d-452d-c38a-3d489f9f7cee"
      },
      "outputs": [
        {
          "name": "stdout",
          "output_type": "stream",
          "text": [
            "The area of the triangle is 12.0.\n",
            "The area of the rectangle is 15.\n",
            "The area of the circle is 12.56.\n"
          ]
        }
      ],
      "source": [
        "class Shape:\n",
        "    def __init__(self, name):\n",
        "        self.name = name\n",
        "\n",
        "    def area(self):\n",
        "        pass\n",
        "\n",
        "\n",
        "class Triangle(Shape):\n",
        "    def __init__(self, base, height):\n",
        "        super().__init__(\"triangle\")\n",
        "        self.base = base\n",
        "        self.height = height\n",
        "\n",
        "    def area(self):\n",
        "        return 0.5 * self.base * self.height\n",
        "\n",
        "\n",
        "class Rectangle(Shape):\n",
        "    def __init__(self, width, height):\n",
        "        super().__init__(\"rectangle\")\n",
        "        self.width = width\n",
        "        self.height = height\n",
        "\n",
        "    def area(self):\n",
        "        return self.width * self.height\n",
        "\n",
        "\n",
        "class Circle(Shape):\n",
        "    def __init__(self, radius):\n",
        "        super().__init__(\"circle\")\n",
        "        self.radius = radius\n",
        "\n",
        "    def area(self):\n",
        "        return 3.14 * (self.radius ** 2)\n",
        "\n",
        "\n",
        "shapes = [Triangle(4, 6), Rectangle(3, 5), Circle(2)]\n",
        "\n",
        "for shape in shapes:\n",
        "    print(f\"The area of the {shape.name} is {shape.area()}.\")"
      ]
    },
    {
      "cell_type": "code",
      "execution_count": null,
      "id": "cfeaf60d-6969-4ef1-96c6-9f5a73d6f5a5",
      "metadata": {
        "id": "cfeaf60d-6969-4ef1-96c6-9f5a73d6f5a5"
      },
      "outputs": [],
      "source": []
    }
  ],
  "metadata": {
    "kernelspec": {
      "display_name": "Python 3 (ipykernel)",
      "language": "python",
      "name": "python3"
    },
    "language_info": {
      "codemirror_mode": {
        "name": "ipython",
        "version": 3
      },
      "file_extension": ".py",
      "mimetype": "text/x-python",
      "name": "python",
      "nbconvert_exporter": "python",
      "pygments_lexer": "ipython3",
      "version": "3.11.4"
    },
    "colab": {
      "provenance": []
    }
  },
  "nbformat": 4,
  "nbformat_minor": 5
}