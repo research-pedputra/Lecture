{
 "cells": [
  {
   "cell_type": "markdown",
   "metadata": {},
   "source": [
    "# Python Inheritance\n",
    "\n",
    "The **process of inheriting the properties of the base (or parent) class into a derived (or child) class is called inheritance**. Inheritance enables us to define a class that takes all the functionality from a base class and allows us to add more. In this tutorial, you will learn to use inheritance in Python."
   ]
  },
  {
   "cell_type": "markdown",
   "metadata": {},
   "source": [
    "## Inheritance in Python\n",
    "\n",
    "Inheritance is a powerful feature in object oriented programming. The main purpose of inheritance is the reusability of code because we can use the existing class to create a new class instead of creating it from scratch.\n",
    "\n",
    "It refers to defining a new [**class**] with little or no modification to an existing class. The new class is called **derived (or child)** class and the one from which it inherits is called the **base (or parent)** class.\n",
    "\n",
    "In inheritance, the derived class acquires and access all the data members, properties, and functions from the base class. Also, a derived class can also provide its specific implementation to the methods of the base class.\n",
    "\n",
    "<div>\n",
    "<img src=\"img/i.png\" width=\"150\"/>\n",
    "</div>"
   ]
  },
  {
   "cell_type": "markdown",
   "metadata": {},
   "source": [
    "**Syntax:**\n",
    "\n",
    "```python\n",
    "class BaseClass:\n",
    "    Body of base class\n",
    "class DerivedClass(BaseClass):\n",
    "    Body of derived class\n",
    "```"
   ]
  },
  {
   "cell_type": "markdown",
   "metadata": {},
   "source": [
    "## Types Of Inheritance\n",
    "\n",
    "In Python, based upon the number of child and parent classes involved, there are five types of inheritance. The type of inheritance are listed below:\n",
    "<b>\n",
    "1. Single Inheritance\n",
    "2. Multiple Inheritance\n",
    "3. Multilevel inheritance\n",
    "4. Hierarchical Inheritance\n",
    "5. Hybrid Inheritance\n",
    "</b>\n",
    "<p> Now let’s see each in detail with example.</p>"
   ]
  },
  {
   "cell_type": "markdown",
   "metadata": {},
   "source": [
    "## Python Single Inheritance\n",
    "\n",
    "In single inheritance, a derived class inherits from a single-base class. Here in one derived class and one base class.\n",
    "\n",
    "<div>\n",
    "<img src=\"img/si.png\" width=\"150\"/>\n",
    "</div>\n",
    "\n",
    "Here, the **`Derived`** class is derived from **`Base`** class."
   ]
  },
  {
   "cell_type": "code",
   "execution_count": null,
   "metadata": {
    "ExecuteTime": {
     "end_time": "2021-06-20T19:10:28.178811Z",
     "start_time": "2021-06-20T19:10:28.165139Z"
    }
   },
   "outputs": [],
   "source": [
    "# Example 1: Single Inheritance\n",
    "\n",
    "# Base class\n",
    "class Vehicle:\n",
    "    def Vehicle_info(self):\n",
    "        print('Inside Vehicle class')\n",
    "\n",
    "# Derived class\n",
    "class Car(Vehicle):\n",
    "    def car_info(self):\n",
    "        print('Inside Car class')\n",
    "\n",
    "# Create object of Car\n",
    "car = Car()\n",
    "\n",
    "# access Vehicle's info using car object\n",
    "car.Vehicle_info()\n",
    "car.car_info()"
   ]
  },
  {
   "cell_type": "markdown",
   "metadata": {},
   "source": [
    "## Python Multiple Inheritance\n",
    "\n",
    "In multiple inheritance, one derived class can inherit from multiple base classes. \n",
    "\n",
    "<div>\n",
    "<img src=\"img/mpi.png\" width=\"400\"/>\n",
    "</div>\n",
    "\n",
    "Here, the **`MultiDerived`** class is derived from **`Base1`** and **`Base2`** classes."
   ]
  },
  {
   "cell_type": "code",
   "execution_count": null,
   "metadata": {
    "ExecuteTime": {
     "end_time": "2021-06-20T19:10:31.094801Z",
     "start_time": "2021-06-20T19:10:31.069415Z"
    }
   },
   "outputs": [],
   "source": [
    "# Example 1: Multiple Inheritance\n",
    "\n",
    "# Base class 1\n",
    "class Person:\n",
    "    def person_info(self, name, age):\n",
    "        print('Inside Person class')\n",
    "        print('Name:', name, 'Age:', age)\n",
    "\n",
    "# Base class 2\n",
    "class Company:\n",
    "    def company_info(self, company_name, location):\n",
    "        print('Inside Company class')\n",
    "        print('Name:', company_name, 'location:', location)\n",
    "\n",
    "# Derived class\n",
    "class Employee(Person, Company):\n",
    "    def Employee_info(self, salary, skill):\n",
    "        print('Inside Employee class')\n",
    "        print('Salary:', salary, 'Skill:', skill)\n",
    "\n",
    "# Create object of Employee\n",
    "emp = Employee()\n",
    "\n",
    "# access data\n",
    "emp.person_info('Milaan', 33)\n",
    "emp.company_info('Google', 'Atlanta')\n",
    "emp.Employee_info(19000, 'Machine Learning')"
   ]
  },
  {
   "cell_type": "code",
   "execution_count": null,
   "metadata": {
    "ExecuteTime": {
     "end_time": "2021-06-20T19:10:31.849192Z",
     "start_time": "2021-06-20T19:10:31.830639Z"
    }
   },
   "outputs": [],
   "source": [
    "# Example 2:\n",
    "\n",
    "class First(object):  # Base class1\n",
    "    def __init__(self):\n",
    "        super(First, self).__init__()\n",
    "        print(\"first\")\n",
    "\n",
    "class Second(object):  # Base class2\n",
    "    def __init__(self):\n",
    "        super(Second, self).__init__()\n",
    "        print(\"second\")\n",
    "\n",
    "class Third(Second, First):  # Derived class derived from Base class 1 and Base class 2\n",
    "    def __init__(self):\n",
    "        super(Third, self).__init__()\n",
    "        print(\"third\")\n",
    "\n",
    "Third(); #call Third class constructor"
   ]
  },
  {
   "cell_type": "code",
   "execution_count": null,
   "metadata": {
    "ExecuteTime": {
     "end_time": "2021-06-20T19:10:32.497625Z",
     "start_time": "2021-06-20T19:10:32.481024Z"
    }
   },
   "outputs": [],
   "source": [
    "# Example 3:\n",
    "\n",
    "class Mammal(object):\n",
    "    def __init__(self, mammalName):\n",
    "        print(mammalName, 'is a warm-blooded animal.')\n",
    "    \n",
    "class Dog(Mammal):\n",
    "    def __init__(self):\n",
    "        print('Dog has four legs.')\n",
    "        super().__init__('Dog')\n",
    "    \n",
    "d1 = Dog()"
   ]
  },
  {
   "cell_type": "markdown",
   "metadata": {},
   "source": [
    "**Explanation**:\n",
    "\n",
    "Here, we called the **`__init__()`** method of the **`Mammal`** class (from the **`Dog`** class) using code\n",
    "\n",
    "**`super().__init__('Dog')`**\n",
    "\n",
    "instead of\n",
    "\n",
    "**`Mammal.__init__(self, 'Dog')`**\n",
    "\n",
    "Since we do not need to specify the name of the base class when we call its members, we can easily change the base class name (if we need to).\n",
    "\n",
    "```python\n",
    "# changing base class to CanidaeFamily\n",
    "class Dog(CanidaeFamily):\n",
    "  def __init__(self):\n",
    "    print('Dog has four legs.')\n",
    "\n",
    "    # no need to change this\n",
    "    super().__init__('Dog')\n",
    "```"
   ]
  },
  {
   "cell_type": "markdown",
   "metadata": {},
   "source": [
    "The **[super()](https://github.com/milaan9/04_Python_Functions/blob/main/002_Python_Functions_Built_in/068_Python_super%28%29.ipynb)** built-in function returns a proxy object, a substitute object that can call methods of the base class via delegation. This is called indirection (ability to reference base object with **`super()`** built-in function).\n",
    "\n",
    "Since the indirection is computed at the runtime, we can use different base classes at different times (if we need to)."
   ]
  },
  {
   "cell_type": "code",
   "execution_count": null,
   "metadata": {
    "ExecuteTime": {
     "end_time": "2021-06-20T19:10:34.033744Z",
     "start_time": "2021-06-20T19:10:34.014214Z"
    }
   },
   "outputs": [],
   "source": [
    "# Example 4:\n",
    "\n",
    "class Animal:\n",
    "    def __init__(self, Animal):\n",
    "        print(Animal, 'is an animal.');\n",
    "\n",
    "class Mammal(Animal):  # Mammal derived to Animal\n",
    "    def __init__(self, mammalName):\n",
    "        print(mammalName, 'is a warm-blooded animal.')\n",
    "        super().__init__(mammalName)\n",
    "    \n",
    "class NonWingedMammal(Mammal):  # NonWingedMammal derived from Mammal (derived from Animal)\n",
    "    def __init__(self, NonWingedMammal):\n",
    "        print(NonWingedMammal, \"can't fly.\")\n",
    "        super().__init__(NonWingedMammal)\n",
    "\n",
    "class NonMarineMammal(Mammal):  # NonMarineMammal derived from Mammal (derived from Animal)\n",
    "    def __init__(self, NonMarineMammal):\n",
    "        print(NonMarineMammal, \"can't swim.\")\n",
    "        super().__init__(NonMarineMammal)\n",
    "\n",
    "class Dog(NonMarineMammal, NonWingedMammal):  # Dog derived from NonMarineMammal and NonWingedMammal\n",
    "    def __init__(self):\n",
    "        print('Dog has 4 legs.');\n",
    "        super().__init__('Dog')\n",
    "    \n",
    "d = Dog()\n",
    "print('')\n",
    "bat = NonMarineMammal('Bat')"
   ]
  },
  {
   "cell_type": "code",
   "execution_count": null,
   "metadata": {
    "ExecuteTime": {
     "end_time": "2021-06-20T19:10:36.334505Z",
     "start_time": "2021-06-20T19:10:36.021035Z"
    }
   },
   "outputs": [],
   "source": [
    "## Example:\n",
    "\n",
    "# Python program to demonstrate private members\n",
    "# of the parent class\n",
    "class C(object):\n",
    "    def __init__(self):\n",
    "            self.c = 21\n",
    "            # d is private instance variable\n",
    "            self.__d = 42  # Note: before 'd' there are two '_'\n",
    "\n",
    "class D(C):\n",
    "    def __init__(self):\n",
    "            self.e = 84\n",
    "            C.__init__(self)\n",
    "\n",
    "object1 = D()\n",
    "# produces an error as d is private instance variable\n",
    "print(D.d)"
   ]
  },
  {
   "cell_type": "markdown",
   "metadata": {},
   "source": [
    "## Python Multilevel Inheritance\n",
    "\n",
    "In multilevel inheritance, we can also inherit from a derived class. It can be of any depth in Python.\n",
    "\n",
    "All the features of the base class and the derived class are inherited into the new derived class.\n",
    "\n",
    "For example, there are three classes A, B, C. A is the superclass, B is the child class of A, C is the child class of B. In other words, we can say a **chain of classes** is called multilevel inheritance.\n",
    "\n",
    "<div>\n",
    "<img src=\"img/mli.png\" width=\"150\"/>\n",
    "</div>\n",
    "\n",
    "\n",
    "Here, the **`Derived1`** class is derived from the **`Base`** class, and the **`Derived2`** class is derived from the **`Derived1`** class."
   ]
  },
  {
   "cell_type": "code",
   "execution_count": null,
   "metadata": {
    "ExecuteTime": {
     "end_time": "2021-06-20T19:10:37.424343Z",
     "start_time": "2021-06-20T19:10:37.413604Z"
    }
   },
   "outputs": [],
   "source": [
    "# Example 1:\n",
    "\n",
    "# Base class\n",
    "class Vehicle:\n",
    "    def Vehicle_info(self):\n",
    "        print('Inside Vehicle class')\n",
    "\n",
    "# Child class\n",
    "class Car(Vehicle):\n",
    "    def car_info(self):\n",
    "        print('Inside Car class')\n",
    "\n",
    "# Child class\n",
    "class SportsCar(Car):\n",
    "    def sports_car_info(self):\n",
    "        print('Inside SportsCar class')\n",
    "\n",
    "# Create object of SportsCar\n",
    "s_car = SportsCar()\n",
    "\n",
    "# access Vehicle's and Car info using SportsCar object\n",
    "s_car.Vehicle_info()\n",
    "s_car.car_info()\n",
    "s_car.sports_car_info()\n"
   ]
  },
  {
   "cell_type": "code",
   "execution_count": null,
   "metadata": {
    "ExecuteTime": {
     "end_time": "2021-06-20T19:10:38.178241Z",
     "start_time": "2021-06-20T19:10:38.156761Z"
    }
   },
   "outputs": [],
   "source": [
    "class Animal:  # grandparent class\n",
    "    def eat(self):\n",
    "        print('Eating...')\n",
    "\n",
    "class Dog(Animal):  # parent class\n",
    "    def bark(self):\n",
    "        print('Barking...')\n",
    "\n",
    "class BabyDog(Dog):  # child class\n",
    "    def weep(self):\n",
    "        print('Weeping...')\n",
    "\n",
    "d=BabyDog()\n",
    "d.eat()\n",
    "d.bark()\n",
    "d.weep()"
   ]
  },
  {
   "cell_type": "markdown",
   "metadata": {},
   "source": [
    "## Hierarchical Inheritance\n",
    "\n",
    "In Hierarchical inheritance, more than one child class is derived from a single parent class. In other words, we can say one base class and multiple derived classes.\n",
    "\n",
    "<div>\n",
    "<img src=\"img/hi.png\" width=\"500\"/>\n",
    "</div>"
   ]
  },
  {
   "cell_type": "code",
   "execution_count": null,
   "metadata": {
    "ExecuteTime": {
     "end_time": "2021-06-20T19:10:39.548350Z",
     "start_time": "2021-06-20T19:10:39.526867Z"
    }
   },
   "outputs": [],
   "source": [
    "# Example 1:\n",
    "\n",
    "class Vehicle:\n",
    "    def info(self):\n",
    "        print(\"This is Vehicle\")\n",
    "\n",
    "class Car(Vehicle):\n",
    "    def car_info(self, name):\n",
    "        print(\"Car name is:\", name)\n",
    "\n",
    "class Truck(Vehicle):\n",
    "    def truck_info(self, name):\n",
    "        print(\"Truck name is:\", name)\n",
    "\n",
    "obj1 = Car()\n",
    "obj1.info()\n",
    "obj1.car_info('BMW')\n",
    "\n",
    "obj2 = Truck()\n",
    "obj2.info()\n",
    "obj2.truck_info('Ford')"
   ]
  },
  {
   "cell_type": "markdown",
   "metadata": {},
   "source": [
    "## Hybrid Inheritance\n",
    "\n",
    "When inheritance is consists of multiple types or a combination of different inheritance is called hybrid inheritance.\n",
    "\n",
    "<div>\n",
    "<img src=\"img/hbi.png\" width=\"500\"/>\n",
    "</div>"
   ]
  },
  {
   "cell_type": "code",
   "execution_count": null,
   "metadata": {
    "ExecuteTime": {
     "end_time": "2021-06-20T19:10:40.928707Z",
     "start_time": "2021-06-20T19:10:40.909180Z"
    },
    "scrolled": true
   },
   "outputs": [],
   "source": [
    "# Example 1:\n",
    "\n",
    "class Vehicle:\n",
    "    def vehicle_info(self):\n",
    "        print(\"Inside Vehicle class\")\n",
    "\n",
    "class Car(Vehicle):\n",
    "    def car_info(self):\n",
    "        print(\"Inside Car class\")\n",
    "\n",
    "class Truck(Vehicle):\n",
    "    def truck_info(self):\n",
    "        print(\"Inside Truck class\")\n",
    "\n",
    "# Sports Car can inherits properties of Vehicle and Car\n",
    "class SportsCar(Car, Vehicle):\n",
    "    def sports_car_info(self):\n",
    "        print(\"Inside SportsCar class\")\n",
    "\n",
    "# create object\n",
    "s_car = SportsCar()\n",
    "\n",
    "s_car.vehicle_info()\n",
    "s_car.car_info()\n",
    "s_car.sports_car_info()"
   ]
  },
  {
   "cell_type": "code",
   "execution_count": null,
   "metadata": {},
   "outputs": [],
   "source": []
  }
 ],
 "metadata": {
  "hide_input": false,
  "kernelspec": {
   "display_name": "Python 3 (ipykernel)",
   "language": "python",
   "name": "python3"
  },
  "language_info": {
   "codemirror_mode": {
    "name": "ipython",
    "version": 3
   },
   "file_extension": ".py",
   "mimetype": "text/x-python",
   "name": "python",
   "nbconvert_exporter": "python",
   "pygments_lexer": "ipython3",
   "version": "3.11.4"
  },
  "toc": {
   "base_numbering": 1,
   "nav_menu": {},
   "number_sections": true,
   "sideBar": true,
   "skip_h1_title": false,
   "title_cell": "Table of Contents",
   "title_sidebar": "Contents",
   "toc_cell": false,
   "toc_position": {},
   "toc_section_display": true,
   "toc_window_display": false
  },
  "varInspector": {
   "cols": {
    "lenName": 16,
    "lenType": 16,
    "lenVar": 40
   },
   "kernels_config": {
    "python": {
     "delete_cmd_postfix": "",
     "delete_cmd_prefix": "del ",
     "library": "var_list.py",
     "varRefreshCmd": "print(var_dic_list())"
    },
    "r": {
     "delete_cmd_postfix": ") ",
     "delete_cmd_prefix": "rm(",
     "library": "var_list.r",
     "varRefreshCmd": "cat(var_dic_list()) "
    }
   },
   "types_to_exclude": [
    "module",
    "function",
    "builtin_function_or_method",
    "instance",
    "_Feature"
   ],
   "window_display": false
  }
 },
 "nbformat": 4,
 "nbformat_minor": 4
}
