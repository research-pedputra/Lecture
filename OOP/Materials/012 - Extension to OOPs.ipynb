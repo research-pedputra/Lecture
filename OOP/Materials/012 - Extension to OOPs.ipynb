{
 "cells": [
  {
   "cell_type": "markdown",
   "id": "d71cd9b8-4106-4c53-b56a-d4024b7a7c40",
   "metadata": {},
   "source": [
    "# Extension to OOP"
   ]
  },
  {
   "cell_type": "markdown",
   "id": "76a4247a-adf1-4d26-8939-9bb82814a0a5",
   "metadata": {},
   "source": [
    "## Constructor & Destructor in OOP's"
   ]
  },
  {
   "cell_type": "markdown",
   "id": "c0e19cf0-6362-43ca-9d43-580a41d3a801",
   "metadata": {},
   "source": [
    "**Constructor & Destructor** are an important concept of oops in Python. \n",
    "\n",
    "`Constructor:`  A constructor in Python is a special type of method which is used to initialize the instance members of the class. The task of constructors is to initialize and assign values to the data members of the class when an object of the class is created. \n",
    "\n",
    "`Destructor:` Destructor in Python is called when an object gets destroyed. In Python, destructors are not needed, because Python has a garbage collector that handles memory management automatically. "
   ]
  },
  {
   "cell_type": "markdown",
   "id": "70ad7753-386e-4a90-87ac-4b61e0d1f9cc",
   "metadata": {},
   "source": [
    "### Constructor:\n",
    "- The `__init__` method is similar to constructors in c++ and Java.\n",
    "- Constructors are used to initialize the object’s state.\n",
    "- The task of constructors is to initialize(assign values) to the data members of the class when an object of class is created. "
   ]
  },
  {
   "cell_type": "code",
   "execution_count": 3,
   "id": "44343742-4bcc-4a95-9c3a-466baf917911",
   "metadata": {
    "tags": []
   },
   "outputs": [],
   "source": [
    "class ClassName:\n",
    "  def __init__( self , variables):\n",
    "    self.variable = variable\n",
    "    ##body"
   ]
  },
  {
   "cell_type": "markdown",
   "id": "ec9f3175-0858-4aa3-9963-f45f515ebd90",
   "metadata": {},
   "source": [
    "### Destructor:\n",
    "- The `__del__` method is similar to destructor in c++ and Java.\n",
    "- Destructors are used to destroying the object’s state."
   ]
  },
  {
   "cell_type": "code",
   "execution_count": 4,
   "id": "fd0cb03b-1ac3-435b-ab38-9e46cd7f0d2c",
   "metadata": {
    "tags": []
   },
   "outputs": [],
   "source": [
    "class ClassName:\n",
    "  def __del__( self , variables):\n",
    "    self.variables = variables\n",
    "    ##body"
   ]
  },
  {
   "cell_type": "markdown",
   "id": "dad80608-9fc0-49df-910a-0fd1cae17d23",
   "metadata": {
    "tags": []
   },
   "source": [
    "#### Example"
   ]
  },
  {
   "cell_type": "code",
   "execution_count": 6,
   "id": "a44de704-b5d0-4268-b0c3-3941571610f1",
   "metadata": {
    "tags": []
   },
   "outputs": [
    {
     "name": "stdout",
     "output_type": "stream",
     "text": [
      "Employee created.\n",
      "Destructor called, Employee deleted.\n"
     ]
    }
   ],
   "source": [
    "class Employee:\n",
    " \n",
    "    # Initializing\n",
    "    def __init__(self):\n",
    "        print('Employee created.')\n",
    " \n",
    "    # Deleting (Calling destructor)\n",
    "    def __del__(self):\n",
    "        print('Destructor called, Employee deleted.')\n",
    " \n",
    "obj = Employee()\n",
    "del obj"
   ]
  },
  {
   "cell_type": "markdown",
   "id": "b457b3a5-c19f-45ff-b434-7bd6b2066c94",
   "metadata": {},
   "source": [
    "## Exception Handling"
   ]
  },
  {
   "cell_type": "markdown",
   "id": "a299c270-87d3-49d4-9b2d-b62d0c953614",
   "metadata": {},
   "source": [
    "In python programming, there are two type of error, i.e. `Syntax errors` and `Exceptions`.\n",
    "\n",
    "- `Errors` are the problems in a program due to wrong syntax at which the program will stop the execution.\n",
    "- `Exceptions` are raised when some internal events occur which changes the normal flow of the program."
   ]
  },
  {
   "cell_type": "markdown",
   "id": "52dcbcb2-a832-4f86-b37e-3a6fb230b1bc",
   "metadata": {},
   "source": [
    "### Example to Errors"
   ]
  },
  {
   "cell_type": "code",
   "execution_count": 5,
   "id": "cda078a8-bf37-4f3c-ab64-1fc54b216fe9",
   "metadata": {
    "tags": []
   },
   "outputs": [
    {
     "ename": "SyntaxError",
     "evalue": "unexpected character after line continuation character (2181307575.py, line 3)",
     "output_type": "error",
     "traceback": [
      "\u001b[1;36m  Cell \u001b[1;32mIn[5], line 3\u001b[1;36m\u001b[0m\n\u001b[1;33m    print(a\\b)\u001b[0m\n\u001b[1;37m            ^\u001b[0m\n\u001b[1;31mSyntaxError\u001b[0m\u001b[1;31m:\u001b[0m unexpected character after line continuation character\n"
     ]
    }
   ],
   "source": [
    "a = 100\n",
    "b = 2\n",
    "print(a\\b)"
   ]
  },
  {
   "cell_type": "code",
   "execution_count": 6,
   "id": "682600da-711a-45f5-9f98-352cdd0dc230",
   "metadata": {
    "tags": []
   },
   "outputs": [
    {
     "ename": "SyntaxError",
     "evalue": "expected ':' (2673258319.py, line 2)",
     "output_type": "error",
     "traceback": [
      "\u001b[1;36m  Cell \u001b[1;32mIn[6], line 2\u001b[1;36m\u001b[0m\n\u001b[1;33m    if(amount>2999)\u001b[0m\n\u001b[1;37m                   ^\u001b[0m\n\u001b[1;31mSyntaxError\u001b[0m\u001b[1;31m:\u001b[0m expected ':'\n"
     ]
    }
   ],
   "source": [
    "amount = 10000\n",
    "if(amount>2999)\n",
    " print(\"Something\")"
   ]
  },
  {
   "cell_type": "markdown",
   "id": "4c1d2e79-d649-4cbe-b20e-94e22842c434",
   "metadata": {},
   "source": [
    "### Example to Exceptions"
   ]
  },
  {
   "cell_type": "code",
   "execution_count": 7,
   "id": "5ebb6b90-a8ea-4d37-a9aa-75fef6fe5a1c",
   "metadata": {
    "tags": []
   },
   "outputs": [
    {
     "ename": "ZeroDivisionError",
     "evalue": "division by zero",
     "output_type": "error",
     "traceback": [
      "\u001b[1;31m---------------------------------------------------------------------------\u001b[0m",
      "\u001b[1;31mZeroDivisionError\u001b[0m                         Traceback (most recent call last)",
      "Cell \u001b[1;32mIn[7], line 3\u001b[0m\n\u001b[0;32m      1\u001b[0m a \u001b[38;5;241m=\u001b[39m \u001b[38;5;241m100\u001b[39m\n\u001b[0;32m      2\u001b[0m b \u001b[38;5;241m=\u001b[39m \u001b[38;5;241m0\u001b[39m\n\u001b[1;32m----> 3\u001b[0m \u001b[38;5;28mprint\u001b[39m(a\u001b[38;5;241m/\u001b[39mb)\n",
      "\u001b[1;31mZeroDivisionError\u001b[0m: division by zero"
     ]
    }
   ],
   "source": [
    "a = 100\n",
    "b = 0\n",
    "print(a/b)"
   ]
  },
  {
   "cell_type": "markdown",
   "id": "29fbc705-3bd4-462b-9007-0dedcc4de8c5",
   "metadata": {},
   "source": [
    "### Some Common Exceptions"
   ]
  },
  {
   "cell_type": "markdown",
   "id": "c388273a-4e1d-4151-9adc-629842bd6304",
   "metadata": {},
   "source": [
    "A list of common exceptions that can be thrown from a standard Python program is\n",
    "given below.\n",
    "- `ZeroDivisionError`:​ This occurs when a number is divided by zero.\n",
    "- `NameError`:​ It occurs when a ​name​ is not found. It may be local or global.\n",
    "- `IndentationError`:​ It occurs when incorrect indentation is given.\n",
    "- `IOError`:​ It occurs when an Input-Output operation fails.\n",
    "- `EOFError`:​ It occurs when the end of the file is reached, and yet operationsare being performed.\n"
   ]
  },
  {
   "cell_type": "markdown",
   "id": "2fca0f6f-60da-41ab-b406-09a2670e0b1e",
   "metadata": {},
   "source": [
    "### Dealing with Exceptions"
   ]
  },
  {
   "cell_type": "markdown",
   "id": "ea6bdfc8-aff6-4d86-92cf-87f3f233016d",
   "metadata": {},
   "source": [
    "In Python, exceptions can be handled using `try-except` blocks."
   ]
  },
  {
   "cell_type": "code",
   "execution_count": 4,
   "id": "20909850-bb8a-4a6c-8a69-676c25aa262e",
   "metadata": {
    "tags": []
   },
   "outputs": [
    {
     "name": "stdout",
     "output_type": "stream",
     "text": [
      "The entry is Hello\n",
      "Oops! <class 'ValueError'> occurred.\n",
      "\n",
      "The entry is 0\n",
      "Oops! <class 'ZeroDivisionError'> occurred.\n",
      "\n",
      "The entry is 2\n",
      "The reciprocal of 2 is 0.5\n"
     ]
    }
   ],
   "source": [
    "import sys\n",
    "l = ['Hello', 0, 2]\n",
    "for ele in l:\n",
    " try:#This block might raise an exception while executing\n",
    "     print(\"The entry is\", ele)\n",
    "     r = 1/int(ele)\n",
    "     break\n",
    " except:#This block executes in case of an exception in \"try\"\n",
    "     print(\"Oops!\", sys.exc_info()[0], \"occurred.\")\n",
    "     print()\n",
    "print(\"The reciprocal of\", ele, \"is\", r)"
   ]
  },
  {
   "cell_type": "code",
   "execution_count": 5,
   "id": "c1c4aaf6-7584-4d0f-9939-aeedaefe499b",
   "metadata": {
    "tags": []
   },
   "outputs": [
    {
     "name": "stdin",
     "output_type": "stream",
     "text": [
      "ENTER THE VALUE: 1\n",
      "ENTER THE VALUE: 2\n"
     ]
    },
    {
     "name": "stdout",
     "output_type": "stream",
     "text": [
      "0.5\n"
     ]
    }
   ],
   "source": [
    "while True:    \n",
    "    try:   \n",
    "        A = int(input('ENTER THE VALUE:'))\n",
    "        B = int(input('ENTER THE VALUE:'))\n",
    "        print(A/B)\n",
    "        break\n",
    "    except ValueError:\n",
    "        print('A & B SHOULD BE INTEGER')\n",
    "    except ZeroDivisionError:\n",
    "        print('B SHOULD NOT BE ZERO')"
   ]
  },
  {
   "cell_type": "code",
   "execution_count": null,
   "id": "b60555be-929b-4c2a-98b7-1fc318d6d00e",
   "metadata": {},
   "outputs": [],
   "source": [
    "class ZeroDenominatorError(Exception):\n",
    "    pass\n",
    "while True:\n",
    "    try:\n",
    "        n = int(input())\n",
    "        m = int(input())\n",
    "        if m==0:\n",
    "            raise ZeroDenominatorError('Denominator should not be Zero')\n",
    "    except ValueError:\n",
    "        print('A & B SHOULD BE INTEGER')\n",
    "    except ZeroDivisionError:\n",
    "        print('B SHOULD NOT BE ZERO') \n",
    "    else:\n",
    "        print(n/m)\n",
    "        break"
   ]
  },
  {
   "cell_type": "markdown",
   "id": "1823fa52-ee61-4028-adfe-e6d03d9b3601",
   "metadata": {},
   "source": [
    "# OOP on Hands"
   ]
  },
  {
   "cell_type": "code",
   "execution_count": 12,
   "id": "8ca9b5f7-8c54-4229-b3ee-66f9776cc234",
   "metadata": {
    "tags": []
   },
   "outputs": [],
   "source": [
    "class Account:\n",
    "    def __init__(self, owner, amount=0):\n",
    "        self.owner = owner\n",
    "        self.amount = amount\n",
    "        self._transactions = []\n",
    "    def add_transaction(self, amount):\n",
    "        if not isinstance(amount, int):\n",
    "            raise ValueError(\"please use int for amount\")\n",
    "        self._transactions.append(amount)\n",
    "    @property\n",
    "    def balance(self):\n",
    "        return sum(self._transactions)+self.amount\n",
    "    @staticmethod\n",
    "    def validate_transaction(account, amount_to_add):\n",
    "        if account.balance+amount_to_add < 0:\n",
    "            raise ValueError(\"sorry cannot go in debt!\")\n",
    "        account.add_transaction(amount_to_add)\n",
    "        return f\"New balance: {account.balance}\"\n",
    "    def __str__(self):\n",
    "        return f\"Account of {self.owner} with starting amount: {self.amount}\"\n",
    "    def __repr__(self):\n",
    "        return f\"Account({self.owner}, {self.amount})\"\n",
    "    def __len__(self):\n",
    "        return len(self._transactions)\n",
    "    def __getitem__(self, index):\n",
    "        return self._transactions[index]\n",
    "    def __add__(self, other):\n",
    "        new_acc = Account(f\"{self.owner}&{other.owner}\", self.amount+other.amount)\n",
    "        new_acc._transactions.extend(self._transactions+other._transactions)\n",
    "        return new_acc\n",
    "    def __gt__(self, other):\n",
    "        return self.balance > other.balance\n",
    "    def __ge__(self, other):\n",
    "        return self.balance >= other.balance\n",
    "    def __eq__(self, other):\n",
    "        return self.balance == other.balance"
   ]
  },
  {
   "cell_type": "code",
   "execution_count": 13,
   "id": "deaf019f-7584-45a7-9b8c-fa9e3710f70b",
   "metadata": {
    "tags": []
   },
   "outputs": [],
   "source": [
    "account1 = Account(\"John Doe\", 1000)"
   ]
  },
  {
   "cell_type": "code",
   "execution_count": 14,
   "id": "5bec447a-2adb-4aa3-8d9c-677bb287863c",
   "metadata": {
    "tags": []
   },
   "outputs": [],
   "source": [
    "account1.add_transaction(500)"
   ]
  },
  {
   "cell_type": "code",
   "execution_count": 15,
   "id": "2f8dd0cb-07d6-4443-b213-e4a37c810949",
   "metadata": {
    "tags": []
   },
   "outputs": [
    {
     "name": "stdout",
     "output_type": "stream",
     "text": [
      "1500\n"
     ]
    }
   ],
   "source": [
    "print(account1.balance)"
   ]
  },
  {
   "cell_type": "code",
   "execution_count": null,
   "id": "fbbd0d75-37e2-4200-8452-39fe1cdf0411",
   "metadata": {},
   "outputs": [],
   "source": []
  }
 ],
 "metadata": {
  "kernelspec": {
   "display_name": "Python 3 (ipykernel)",
   "language": "python",
   "name": "python3"
  },
  "language_info": {
   "codemirror_mode": {
    "name": "ipython",
    "version": 3
   },
   "file_extension": ".py",
   "mimetype": "text/x-python",
   "name": "python",
   "nbconvert_exporter": "python",
   "pygments_lexer": "ipython3",
   "version": "3.11.4"
  }
 },
 "nbformat": 4,
 "nbformat_minor": 5
}
