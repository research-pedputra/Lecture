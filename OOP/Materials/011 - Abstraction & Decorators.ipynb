{
 "cells": [
  {
   "cell_type": "markdown",
   "id": "3eeb385f-6eec-4878-a66c-e26fa114cf5f",
   "metadata": {
    "id": "3eeb385f-6eec-4878-a66c-e26fa114cf5f"
   },
   "source": [
    "# Abstraction in Python OOP's\n",
    "\n"
   ]
  },
  {
   "cell_type": "markdown",
   "id": "def95e05-eeed-40e6-b36c-fbb0287d26b9",
   "metadata": {
    "id": "def95e05-eeed-40e6-b36c-fbb0287d26b9"
   },
   "source": [
    "In Object-Oriented Programming (OOP), `abstraction` simplifies complex reality by modeling classes based on the essential properties and behaviors an object should possess. It involves hiding complex implementation details while exposing only the necessary and relevant features."
   ]
  },
  {
   "cell_type": "markdown",
   "id": "53u287d2FY42",
   "metadata": {
    "id": "53u287d2FY42"
   },
   "source": [
    "To declare an Abstract class, we firstly need to import the abc module. Let us look at an example.\n",
    "\n"
   ]
  },
  {
   "cell_type": "code",
   "execution_count": null,
   "id": "zzjeVLYWFa0j",
   "metadata": {
    "id": "zzjeVLYWFa0j"
   },
   "outputs": [],
   "source": [
    "from abc import ABC\n",
    "class abs_class(ABC):\n",
    "     #abstractmethods"
   ]
  },
  {
   "cell_type": "markdown",
   "id": "JBv9yGMrF4p0",
   "metadata": {
    "id": "JBv9yGMrF4p0"
   },
   "source": [
    "As a property, abstract classes can have any number of abstract methods coexisting with any number of other methods."
   ]
  },
  {
   "cell_type": "code",
   "execution_count": null,
   "id": "Hu5HexUsF8Ke",
   "metadata": {
    "id": "Hu5HexUsF8Ke"
   },
   "outputs": [],
   "source": [
    "from abc import ABC, abstractmethod\n",
    "class abs_class(ABC):\n",
    "    #normal method\n",
    "    def method(self):\n",
    "        #method definition\n",
    "    @abstractmethod\n",
    "    def Abs_method(self):\n",
    "        #Abs_method definition"
   ]
  },
  {
   "cell_type": "markdown",
   "id": "4rtbMQ-xGMJn",
   "metadata": {
    "id": "4rtbMQ-xGMJn"
   },
   "source": [
    "Here, `method()` is normal method whereas `Abs_method()` is an abstract method implementing `@abstractmethod` from the abc module."
   ]
  },
  {
   "cell_type": "markdown",
   "id": "N27B5IlIGlcD",
   "metadata": {
    "id": "N27B5IlIGlcD"
   },
   "source": [
    "## Advantages of Abstraction in Python:\n",
    "\n",
    "1.   Abstraction helps in reducing programming efforts and reduce coding complexity.\n",
    "2.   It is used to hide unwanted details from the user.\n",
    "3.   It allows focusing on the main concept.\n",
    "\n"
   ]
  },
  {
   "cell_type": "markdown",
   "id": "PJ1_2H2CEmGG",
   "metadata": {
    "id": "PJ1_2H2CEmGG"
   },
   "source": [
    "### Abstraction classes in Python"
   ]
  },
  {
   "cell_type": "markdown",
   "id": "2fn8Lv8hFG32",
   "metadata": {
    "id": "2fn8Lv8hFG32"
   },
   "source": [
    "Abstract class is a class in which one or more abstract methods are defined. When a method is declared inside the class without its implementation is known as abstract method."
   ]
  },
  {
   "cell_type": "code",
   "execution_count": null,
   "id": "b6bbe135-98b5-4095-a4af-ffab5d27b3bd",
   "metadata": {
    "id": "b6bbe135-98b5-4095-a4af-ffab5d27b3bd",
    "outputId": "9a5bd0c4-7168-4809-bca2-08ad9d6fa732",
    "tags": []
   },
   "outputs": [],
   "source": [
    "from abc import ABC, abstractmethod\n",
    "class Absclass(ABC):\n",
    "    def print(self,x):\n",
    "        print(\"Passed value: \", x)\n",
    "    @abstractmethod\n",
    "    def task(self):\n",
    "        print(\"We are inside Absclass task\")\n",
    "\n",
    "class test_class(Absclass):\n",
    "    def task(self):\n",
    "        print(\"We are inside test_class task\")\n",
    "\n",
    "class example_class(Absclass):\n",
    "    def task(self):\n",
    "        print(\"We are inside example_class task\")\n",
    "\n",
    "#object of test_class created\n",
    "test_obj = test_class()\n",
    "test_obj.task()\n",
    "test_obj.print(100)\n",
    "\n",
    "#object of example_class created\n",
    "example_obj = example_class()\n",
    "example_obj.task()\n",
    "example_obj.print(200)\n",
    "\n",
    "print(\"test_obj is instance of Absclass? \", isinstance(test_obj, Absclass))\n",
    "print(\"example_obj is instance of Absclass? \", isinstance(example_obj, Absclass))\n"
   ]
  },
  {
   "cell_type": "markdown",
   "id": "4b2ccb09-8483-4761-96f2-16d595801998",
   "metadata": {
    "id": "4b2ccb09-8483-4761-96f2-16d595801998"
   },
   "source": [
    "`Absclass` is the abstract class that inherits from the `ABC` class from the `abc` module. It contains an abstract method `task()` and a `print()` method which are visible by the user. Two other classes inheriting from this abstract class are test_class and `example_class`. Both of them have their own `task()` method (extension of the abstract method).\n",
    "\n",
    "After the user creates objects from both the `test_class` and `example_class` classes and invoke the `task()` method for both of them, the hidden definitions for `task()` methods inside both the classes come into play. These definitions are hidden from the user. The abstract method `task()` from the abstract class Absclass is actually never invoked.\n",
    "\n",
    "But when the `print()` method is called for both the `test_obj` and `example_obj`, the Absclass’s `print()` method is invoked since it is not an abstract method."
   ]
  },
  {
   "cell_type": "code",
   "execution_count": null,
   "id": "fe087454-1edb-4c1c-b969-06380769beff",
   "metadata": {
    "id": "fe087454-1edb-4c1c-b969-06380769beff",
    "outputId": "ec2c73b8-1014-41e9-cfaa-7fd8c41bf0f0",
    "tags": []
   },
   "outputs": [],
   "source": [
    "from abc import ABC,abstractmethod\n",
    "\n",
    "class Button(ABC):\n",
    "\n",
    "\t@abstractmethod\n",
    "\tdef click(self):\n",
    "\t\tpass\n",
    "\n",
    "class PushButton(Button):\n",
    "\n",
    "\tdef click(self):\n",
    "\t\tprint(\"push button click\")\n",
    "\n",
    "class RadioButton(Button):\n",
    "\n",
    "\tdef click(self):\n",
    "\t\tprint(\"radio button click\")\n",
    "\n",
    "\n",
    "tombol1 = PushButton()\n",
    "tombol2 = RadioButton()\n",
    "\n",
    "tombol1.click()\n",
    "tombol2.click()\n"
   ]
  },
  {
   "cell_type": "code",
   "execution_count": null,
   "id": "683756e8-bc7a-4f2c-bddc-c3d4c1bd1e4d",
   "metadata": {
    "id": "683756e8-bc7a-4f2c-bddc-c3d4c1bd1e4d"
   },
   "outputs": [],
   "source": [
    "# Import required modules\n",
    "from abc import ABC, abstractmethod\n",
    "\n",
    "# Create Abstract base class\n",
    "class Car(ABC):\n",
    "def __init__(self, brand, model, year):\n",
    "\tself.brand = brand\n",
    "\tself.model = model\n",
    "\tself.year = year\n",
    "\n",
    "# Create abstract method\n",
    "@abstractmethod\n",
    "def printDetails(self):\n",
    "\tpass\n",
    "\n",
    "# Create concrete method\n",
    "def accelerate(self):\n",
    "\tprint(\"speed up ...\")\n",
    "\n",
    "def break_applied(self):\n",
    "\tprint(\"Car stop\")\n",
    "\n",
    "# Create a child class\n",
    "class Hatchback(Car):\n",
    "\n",
    "def printDetails(self):\n",
    "\tprint(\"Brand:\", self.brand);\n",
    "\tprint(\"Model:\", self.model);\n",
    "\tprint(\"Year:\", self.year);\n",
    "\n",
    "def Sunroof(self):\n",
    "\tprint(\"Not having this feature\")\n",
    "\n",
    "# Create a child class\n",
    "class Suv(Car):\n",
    "\n",
    "def printDetails(self):\n",
    "\tprint(\"Brand:\", self.brand);\n",
    "\tprint(\"Model:\", self.model);\n",
    "\tprint(\"Year:\", self.year);\n",
    "\n",
    "def Sunroof(self):\n",
    "\tprint(\"Available\")\n",
    "\n",
    "\n",
    "car1 = Hatchback(\"Maruti\", \"Alto\", \"2022\");\n",
    "\n",
    "car1.printDetails()\n",
    "car1.accelerate()\n",
    "\n",
    "\n"
   ]
  },
  {
   "cell_type": "markdown",
   "id": "2c6ed8de-2bcc-42d0-b23f-51e32aaaf413",
   "metadata": {},
   "source": [
    "# Decorators"
   ]
  },
  {
   "cell_type": "markdown",
   "id": "570f6372-1081-4d3c-9557-c71bc5f3fa23",
   "metadata": {},
   "source": [
    "`Decorators` can be understood as **Adding Functionality to Existing Code.**"
   ]
  },
  {
   "cell_type": "markdown",
   "id": "e1147bc0-4a99-408c-a41d-95719bb7fff6",
   "metadata": {},
   "source": [
    "### Functions Returning Functions"
   ]
  },
  {
   "cell_type": "markdown",
   "id": "0e42408b-7278-472a-afbe-ad08eb297cb9",
   "metadata": {},
   "source": [
    "A function can also generate another function"
   ]
  },
  {
   "cell_type": "code",
   "execution_count": null,
   "id": "228c2695-56ec-47f1-9283-63c3e7f1b068",
   "metadata": {
    "tags": []
   },
   "outputs": [],
   "source": [
    "def stop_function():\n",
    "    def stop():\n",
    "        return \"Program Stopped\"\n",
    "    return stop\n",
    "Instruction = stop_function()\n",
    "Instruction()"
   ]
  },
  {
   "cell_type": "code",
   "execution_count": null,
   "id": "2084d13f-a9c0-4a95-96c1-41a3b9e762cc",
   "metadata": {
    "tags": []
   },
   "outputs": [],
   "source": [
    "def number_increment(numbers):\n",
    "    def increase():\n",
    "        increased = [x + 1 for x in numbers]\n",
    "        return increased\n",
    "    return increase()\n",
    "print(number_increment([1, 2, 3]))"
   ]
  },
  {
   "cell_type": "markdown",
   "id": "0668072b-c55c-4918-bc74-55186413bde3",
   "metadata": {},
   "source": [
    "### Understanding the Decorators"
   ]
  },
  {
   "cell_type": "markdown",
   "id": "d780375a-7224-4fdd-9466-03f61a598c66",
   "metadata": {},
   "source": [
    "1. `Decorator` allows programmers to modify the behavior of a function or a class. \n",
    "\n",
    "2. `Decorators` allow us to wrap another function in order to extend the behavior of wrapped function."
   ]
  },
  {
   "cell_type": "markdown",
   "id": "f766a43b-bc79-493c-bf31-bfe3ac3fd45a",
   "metadata": {},
   "source": [
    "### Creating a decorators function to convert a sentence to upper case"
   ]
  },
  {
   "cell_type": "code",
   "execution_count": 2,
   "id": "43ba3095-6e88-4e25-b939-a7a2bc0ebe47",
   "metadata": {
    "tags": []
   },
   "outputs": [],
   "source": [
    "def uppercase(function):\n",
    "    def wrapper():\n",
    "        result = function()\n",
    "        uppercase_result = result.upper()\n",
    "        return uppercase_result\n",
    "    return wrapper"
   ]
  },
  {
   "cell_type": "code",
   "execution_count": null,
   "id": "08d1f589-bad4-403b-9c15-02b067a4fc39",
   "metadata": {
    "tags": []
   },
   "outputs": [],
   "source": [
    "def say_hi():\n",
    "    return 'alfa prima university'\n",
    "\n",
    "decorate = uppercase(say_hi)\n",
    "decorate()"
   ]
  },
  {
   "cell_type": "markdown",
   "id": "ad5388fc-997f-4814-8b1a-eb1c02ff554b",
   "metadata": {},
   "source": [
    "#### The easy way by using '@'"
   ]
  },
  {
   "cell_type": "code",
   "execution_count": 5,
   "id": "ce8e8d28-8534-47e9-942b-1f88c668235b",
   "metadata": {
    "tags": []
   },
   "outputs": [
    {
     "data": {
      "text/plain": [
       "'ALFA PRIMA UNIVERSITY'"
      ]
     },
     "execution_count": 5,
     "metadata": {},
     "output_type": "execute_result"
    }
   ],
   "source": [
    "@uppercase\n",
    "def say_hi():\n",
    "    return 'alfa prima university'\n",
    "decorate = uppercase(say_hi)\n",
    "decorate()"
   ]
  },
  {
   "cell_type": "markdown",
   "id": "0ae82579-6695-4242-bb42-d914f713ec7d",
   "metadata": {},
   "source": [
    "#### The easy way by using '@'"
   ]
  },
  {
   "cell_type": "code",
   "execution_count": 6,
   "id": "1be7b91f-ba4f-4787-80fd-4a6a699e1a44",
   "metadata": {
    "tags": []
   },
   "outputs": [
    {
     "name": "stdout",
     "output_type": "stream",
     "text": [
      "['a', 'e']\n"
     ]
    }
   ],
   "source": [
    "def vowel_filter(function):\n",
    "    def wrapper():\n",
    "        res = function()\n",
    "        filtered = [x for x in res if x.lower() in \"aeiou\"]\n",
    "        return filtered\n",
    "    return wrapper\n",
    "@vowel_filter\n",
    "def get_letters():\n",
    "    return [\"a\", \"b\", \"c\", \"d\", \"e\"]\n",
    "print(get_letters())"
   ]
  },
  {
   "cell_type": "code",
   "execution_count": null,
   "id": "4810dbc3-c4c3-4c78-bc6f-9549940a3e7e",
   "metadata": {},
   "outputs": [],
   "source": []
  }
 ],
 "metadata": {
  "colab": {
   "provenance": []
  },
  "kernelspec": {
   "display_name": "Python 3 (ipykernel)",
   "language": "python",
   "name": "python3"
  },
  "language_info": {
   "codemirror_mode": {
    "name": "ipython",
    "version": 3
   },
   "file_extension": ".py",
   "mimetype": "text/x-python",
   "name": "python",
   "nbconvert_exporter": "python",
   "pygments_lexer": "ipython3",
   "version": "3.11.4"
  }
 },
 "nbformat": 4,
 "nbformat_minor": 5
}
