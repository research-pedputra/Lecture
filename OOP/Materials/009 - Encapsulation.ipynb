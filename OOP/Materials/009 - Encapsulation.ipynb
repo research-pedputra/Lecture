{
 "cells": [
  {
   "cell_type": "markdown",
   "id": "9264e2d1-2570-4890-b9f6-e4baf3778231",
   "metadata": {},
   "source": [
    "# Python Encapsultation"
   ]
  },
  {
   "cell_type": "markdown",
   "id": "dcb553ad-1f9f-443c-ac19-198aff27ab85",
   "metadata": {},
   "source": [
    "`Encapsulation` is one of the fundamental principles of object-oriented design, and it involves bundling data (attributes or properties) and the methods (functions) that operate on that data into a single unit, which is typically referred to as a class."
   ]
  },
  {
   "cell_type": "markdown",
   "id": "69d87965-a696-43a6-8b44-cc26f79ffd73",
   "metadata": {},
   "source": [
    "<div style=\"display: flex; justify-content: space-around; align-items: center;\">\n",
    "    <div style=\"flex: 0 0 0%;\">\n",
    "        <p></p>\n",
    "        <a href=\"\" target=\"blank\">\n",
    "            <img src=\"img/Encapsulation.png\" alt=\"\" width=\"500\">\n",
    "        </a>\n",
    "    </div>"
   ]
  },
  {
   "cell_type": "markdown",
   "id": "365e3a46-a988-4e3d-be65-2ee5724a6fdf",
   "metadata": {},
   "source": [
    "**Some key points about encapsulation:**\n",
    "\n",
    "- `Bundling Data and Methods:` In encapsulation, you group together the data (state) and the methods (behavior) that manipulate that data within a class. This allows you to create self-contained and organized units of code.\n",
    "\n",
    "- `Information Hiding:` Encapsulation helps in hiding the internal details of an object's implementation from the outside world. The internal state of an object is typically kept private, and access to it is controlled through methods (often referred to as getters and setters).\n",
    "\n",
    "- `Data Integrity:` By controlling access to the internal data through methods, you can enforce rules and constraints, ensuring that data remains consistent and follows the desired behavior.\n",
    "\n",
    "- `Getter and Setter Methods:` Getter methods are used to retrieve the value of an objects attributes, and setter methods are used to modify the value of attributes. This allows you to provide controlled access to the object's state.\n",
    "\n",
    "- `Encapsulation Enhances Modularity:` Encapsulated classes can be treated as black boxes, making it easier to modify or extend the implementation without affecting other parts of the code.\n"
   ]
  },
  {
   "cell_type": "markdown",
   "id": "f95decc1-af82-4994-b512-f7caf1d6450b",
   "metadata": {},
   "source": [
    "<div style=\"display: flex; justify-content: space-around; align-items: center;\">\n",
    "    <div style=\"flex: 0 0 0%;\">\n",
    "        <p></p>\n",
    "        <a href=\"\" target=\"blank\">\n",
    "            <img src=\"img/encapsulation_python_class.jpg\" alt=\"\" width=\"500\">\n",
    "        </a>\n",
    "    </div>"
   ]
  },
  {
   "cell_type": "markdown",
   "id": "bf459a41",
   "metadata": {},
   "source": [
    "#### Private and Protected Attributes"
   ]
  },
  {
   "cell_type": "markdown",
   "id": "6e6f3a45",
   "metadata": {},
   "source": [
    "<div class=\"alert alert-success\"> In Python, attributes of a class are public by default, which means they can be accessed from outside the class. "
   ]
  },
  {
   "cell_type": "markdown",
   "id": "df5b87c6",
   "metadata": {},
   "source": [
    "<div class=\"alert alert-success\" role=\"alert\">     \n",
    "    - To protect the attributes we can use `_` prefix. \n",
    "    </div>"
   ]
  },
  {
   "cell_type": "markdown",
   "id": "300a6f02",
   "metadata": {},
   "source": [
    "<div class=\"alert alert-success\" role=\"alert\">     \n",
    "    - To private or make it unable to access directly, we can use `__` prefix. (We called it mangling)\n",
    "    </div>"
   ]
  },
  {
   "cell_type": "code",
   "execution_count": 1,
   "id": "240215e5",
   "metadata": {
    "tags": []
   },
   "outputs": [],
   "source": [
    "class myclass:\n",
    "    def __init__(self):\n",
    "        self._protected = 42"
   ]
  },
  {
   "cell_type": "code",
   "execution_count": 2,
   "id": "66510a8e",
   "metadata": {
    "tags": []
   },
   "outputs": [
    {
     "name": "stdout",
     "output_type": "stream",
     "text": [
      "42\n"
     ]
    }
   ],
   "source": []
  },
  {
   "cell_type": "code",
   "execution_count": null,
   "id": "689a9dbe",
   "metadata": {},
   "outputs": [],
   "source": []
  },
  {
   "cell_type": "code",
   "execution_count": null,
   "id": "ef1fc086",
   "metadata": {},
   "outputs": [],
   "source": []
  },
  {
   "cell_type": "code",
   "execution_count": null,
   "id": "4078f0e6",
   "metadata": {},
   "outputs": [],
   "source": []
  },
  {
   "cell_type": "markdown",
   "id": "138a9f79",
   "metadata": {},
   "source": [
    "#### Getter and Setter Methods"
   ]
  },
  {
   "cell_type": "code",
   "execution_count": 4,
   "id": "89c22339",
   "metadata": {
    "tags": []
   },
   "outputs": [],
   "source": [
    "class temperature:\n",
    "    def __init__(self, celcius):\n",
    "        self._celcius = celcius\n",
    "    def get_celcius(self):\n",
    "        return self._celcius\n",
    "    def set_celcius(self, value):\n",
    "        if value < -273.15:\n",
    "            raise ValueError(\"Temperature cannot be below -273.15\")\n",
    "        self._celcius = value\n"
   ]
  },
  {
   "cell_type": "code",
   "execution_count": 6,
   "id": "bb0220fe",
   "metadata": {
    "tags": []
   },
   "outputs": [],
   "source": []
  },
  {
   "cell_type": "code",
   "execution_count": 7,
   "id": "c87f7fc8-b7b6-44b5-a5a2-79872832536a",
   "metadata": {
    "tags": []
   },
   "outputs": [
    {
     "data": {
      "text/plain": [
       "20"
      ]
     },
     "execution_count": 7,
     "metadata": {},
     "output_type": "execute_result"
    }
   ],
   "source": []
  },
  {
   "cell_type": "code",
   "execution_count": 8,
   "id": "be28a6cd",
   "metadata": {
    "tags": []
   },
   "outputs": [],
   "source": []
  },
  {
   "cell_type": "code",
   "execution_count": 9,
   "id": "9ab601e9",
   "metadata": {
    "tags": []
   },
   "outputs": [
    {
     "data": {
      "text/plain": [
       "30"
      ]
     },
     "execution_count": 9,
     "metadata": {},
     "output_type": "execute_result"
    }
   ],
   "source": [
    "temp.get_celcius()"
   ]
  },
  {
   "cell_type": "code",
   "execution_count": 10,
   "id": "d7d0536d",
   "metadata": {},
   "outputs": [
    {
     "ename": "ValueError",
     "evalue": "Temperature cannot be below -273.15",
     "output_type": "error",
     "traceback": [
      "\u001b[1;31m---------------------------------------------------------------------------\u001b[0m",
      "\u001b[1;31mValueError\u001b[0m                                Traceback (most recent call last)",
      "Cell \u001b[1;32mIn[10], line 1\u001b[0m\n\u001b[1;32m----> 1\u001b[0m temp\u001b[38;5;241m.\u001b[39mset_celcius(\u001b[38;5;241m-\u001b[39m\u001b[38;5;241m274\u001b[39m)\n",
      "Cell \u001b[1;32mIn[4], line 8\u001b[0m, in \u001b[0;36mtemperature.set_celcius\u001b[1;34m(self, value)\u001b[0m\n\u001b[0;32m      6\u001b[0m \u001b[38;5;28;01mdef\u001b[39;00m \u001b[38;5;21mset_celcius\u001b[39m(\u001b[38;5;28mself\u001b[39m, value):\n\u001b[0;32m      7\u001b[0m     \u001b[38;5;28;01mif\u001b[39;00m value \u001b[38;5;241m<\u001b[39m \u001b[38;5;241m-\u001b[39m\u001b[38;5;241m273.15\u001b[39m:\n\u001b[1;32m----> 8\u001b[0m         \u001b[38;5;28;01mraise\u001b[39;00m \u001b[38;5;167;01mValueError\u001b[39;00m(\u001b[38;5;124m\"\u001b[39m\u001b[38;5;124mTemperature cannot be below -273.15\u001b[39m\u001b[38;5;124m\"\u001b[39m)\n\u001b[0;32m      9\u001b[0m     \u001b[38;5;28mself\u001b[39m\u001b[38;5;241m.\u001b[39m_celcius \u001b[38;5;241m=\u001b[39m value\n",
      "\u001b[1;31mValueError\u001b[0m: Temperature cannot be below -273.15"
     ]
    }
   ],
   "source": []
  },
  {
   "cell_type": "code",
   "execution_count": null,
   "id": "84dc330d",
   "metadata": {},
   "outputs": [],
   "source": []
  },
  {
   "cell_type": "markdown",
   "id": "b6daa4f8-cdca-4940-91b2-9e773a474329",
   "metadata": {},
   "source": [
    "#### Bundling Data and Methods"
   ]
  },
  {
   "cell_type": "code",
   "execution_count": 18,
   "id": "303e4355-732b-4808-a130-1bbb84e4c4fd",
   "metadata": {
    "tags": []
   },
   "outputs": [],
   "source": [
    "class atm:\n",
    "    def __init__(self, balance=0):\n",
    "        self._balance = balance \n",
    "    def deposit(self, amount):\n",
    "        if amount > 0:\n",
    "            self._balance += amount\n",
    "    def withdraw(self, amount):\n",
    "        if 0 < amount <= self._balance:\n",
    "            self._balance -= amount\n",
    "    def get_balance(self):\n",
    "        return self._balance"
   ]
  },
  {
   "cell_type": "code",
   "execution_count": 12,
   "id": "e564271d-e1e8-41a4-972d-1725eca88515",
   "metadata": {
    "tags": []
   },
   "outputs": [],
   "source": []
  },
  {
   "cell_type": "code",
   "execution_count": 13,
   "id": "477d1960-1b97-4e45-84b8-a4e0ddc3ae48",
   "metadata": {
    "tags": []
   },
   "outputs": [],
   "source": []
  },
  {
   "cell_type": "code",
   "execution_count": 14,
   "id": "d4c1f2be-3a6e-40ab-adbe-b568c8128af9",
   "metadata": {
    "tags": []
   },
   "outputs": [
    {
     "data": {
      "text/plain": [
       "100"
      ]
     },
     "execution_count": 14,
     "metadata": {},
     "output_type": "execute_result"
    }
   ],
   "source": []
  },
  {
   "cell_type": "code",
   "execution_count": 15,
   "id": "40a51786-ca6f-4257-b979-67ba9554ae56",
   "metadata": {
    "tags": []
   },
   "outputs": [],
   "source": []
  },
  {
   "cell_type": "code",
   "execution_count": 16,
   "id": "707c3fc1-4f30-4623-8aa2-cd806385ead0",
   "metadata": {
    "tags": []
   },
   "outputs": [
    {
     "data": {
      "text/plain": [
       "50"
      ]
     },
     "execution_count": 16,
     "metadata": {},
     "output_type": "execute_result"
    }
   ],
   "source": []
  },
  {
   "cell_type": "markdown",
   "id": "d0b74db1-9ce8-4395-9b1c-8581444e115f",
   "metadata": {},
   "source": [
    "In this program, the `_balance` attribute is encapsulated within the `atm` class, and access to it is controlled through the `deposit`, `withdraw`, and `get_balance` methods, demonstrating encapsulation principles."
   ]
  },
  {
   "cell_type": "code",
   "execution_count": 19,
   "id": "b50808d6-15a1-4de2-862a-4bc0bf981cdb",
   "metadata": {
    "tags": []
   },
   "outputs": [],
   "source": [
    "class Employee:\n",
    "    def __init__(self, name, salary, project):\n",
    "        self.name = name\n",
    "        self.salary = salary\n",
    "        self.project = project\n",
    "    def show(self):\n",
    "        print(\"Name: \", self.name, 'Salary:', self.salary)\n",
    "    def work(self):\n",
    "        print(self.name, 'is working as', self.project)"
   ]
  },
  {
   "cell_type": "code",
   "execution_count": 21,
   "id": "b7299bea-2b26-4c5f-b562-ca30edf08ffb",
   "metadata": {
    "tags": []
   },
   "outputs": [],
   "source": [
    "Obj = Employee(\"Putu\",1000,\"Cleaning Service\" )"
   ]
  },
  {
   "cell_type": "code",
   "execution_count": 22,
   "id": "78ae99e0-afee-4445-aa45-b3c3231c238c",
   "metadata": {
    "tags": []
   },
   "outputs": [
    {
     "name": "stdout",
     "output_type": "stream",
     "text": [
      "Name:  Putu Salary: 1000\n"
     ]
    }
   ],
   "source": [
    "Obj.show()"
   ]
  },
  {
   "cell_type": "code",
   "execution_count": 23,
   "id": "4ec8c808-cbad-46d4-8add-afeb0be2f7ec",
   "metadata": {
    "tags": []
   },
   "outputs": [
    {
     "name": "stdout",
     "output_type": "stream",
     "text": [
      "Putu is working on Cleaning Service\n"
     ]
    }
   ],
   "source": [
    "Obj.work()"
   ]
  },
  {
   "cell_type": "markdown",
   "id": "5bb59006-69b4-4805-ad96-a5ee1a622ea0",
   "metadata": {},
   "source": [
    "In this code, encapsulation is achieved through the use of the class `Employee`, where the attributes (`name`, `salary`, `project`) and `methods` (`__init__`, show, work) are bundled together as a cohesive unit. The attributes are encapsulated within the class, and the methods operate on the encapsulated data."
   ]
  },
  {
   "cell_type": "markdown",
   "id": "461e49b7-b71b-411a-b510-9f2d90b990ca",
   "metadata": {},
   "source": [
    "#### Guess what kind of encapsulations in following codes?"
   ]
  },
  {
   "cell_type": "code",
   "execution_count": 24,
   "id": "c6644cc3-c61f-48e9-8f21-6eb7dc59ae5b",
   "metadata": {},
   "outputs": [
    {
     "name": "stdout",
     "output_type": "stream",
     "text": [
      "Selling Price: 900\n"
     ]
    }
   ],
   "source": [
    "class Computer:\n",
    "    def __init__(self):\n",
    "        self.__maxprice = 900\n",
    "    def sell(self):\n",
    "        print(\"Selling Price: {}\".format(self.__maxprice))\n",
    "    def setMaxPrice(self, price):\n",
    "        self.__maxprice = price\n",
    "\n",
    "c = Computer()\n",
    "c.sell()"
   ]
  },
  {
   "cell_type": "markdown",
   "id": "1f400cc4-83a6-4fe4-a631-eb693349d70b",
   "metadata": {
    "tags": []
   },
   "source": [
    "##### Change the price to 1000 and sell it 900"
   ]
  },
  {
   "cell_type": "code",
   "execution_count": 26,
   "id": "50ed1334-276c-4a33-9cb7-bc395346290d",
   "metadata": {
    "tags": []
   },
   "outputs": [
    {
     "name": "stdout",
     "output_type": "stream",
     "text": [
      "Selling Price: 900\n"
     ]
    }
   ],
   "source": [
    "c.__maxprice = 1000\n",
    "c.sell()"
   ]
  },
  {
   "cell_type": "markdown",
   "id": "ad03ba9a-619d-4c16-8b0f-e5b81f281e52",
   "metadata": {},
   "source": [
    "##### Using setter function, set maximum price 1000 and sell it 1000"
   ]
  },
  {
   "cell_type": "code",
   "execution_count": 27,
   "id": "88c82284-b7b7-4a03-801c-d5bffaf1ceb2",
   "metadata": {
    "tags": []
   },
   "outputs": [
    {
     "name": "stdout",
     "output_type": "stream",
     "text": [
      "Selling Price: 1000\n"
     ]
    }
   ],
   "source": [
    "c.setMaxPrice(1000)\n",
    "c.sell()"
   ]
  },
  {
   "cell_type": "markdown",
   "id": "8f1becc1-71e4-471a-96dc-d481774e40ab",
   "metadata": {},
   "source": [
    "#### Excercise"
   ]
  },
  {
   "cell_type": "markdown",
   "id": "82ad9c89-aaf1-4780-bf0d-98330626a9ea",
   "metadata": {},
   "source": [
    "#### Game: Health and Attack Power 1"
   ]
  },
  {
   "cell_type": "code",
   "execution_count": 3,
   "id": "008d54e4-55bc-49a3-9217-ce4309130162",
   "metadata": {
    "tags": []
   },
   "outputs": [
    {
     "name": "stdout",
     "output_type": "stream",
     "text": [
      "earthshaker\n",
      "50\n",
      "45\n"
     ]
    }
   ],
   "source": [
    "class Hero:\n",
    "    def __init__(self,name,health,attackPower):\n",
    "        self.__name = name\n",
    "        self.__health = health\n",
    "        self.__attPower = attackPower\n",
    "    def getName(self):\n",
    "        return self.__name\n",
    "    def getHealth(self):\n",
    "        return self.__health\n",
    "    def diserang(self,serangPower):\n",
    "        self.__health -= serangPower\n",
    "    def setAttPower(self,nilaibaru):\n",
    "        self.__attPower = nilaibaru"
   ]
  },
  {
   "cell_type": "markdown",
   "id": "b7954673-8855-42e8-b269-6afbc91bd183",
   "metadata": {},
   "source": [
    "#### Game: Health and Attack Power 2"
   ]
  },
  {
   "cell_type": "code",
   "execution_count": 28,
   "id": "6d618738-66ce-4e1a-9fa1-f5652d4dc320",
   "metadata": {
    "tags": []
   },
   "outputs": [
    {
     "name": "stdout",
     "output_type": "stream",
     "text": [
      "merubah info\n",
      "name sniper : \n",
      "\thealth: 100\n",
      "name dadang : \n",
      "\thealth: 100\n",
      "getter dan setter untuk __armor:\n",
      "10\n",
      "50\n",
      "delete armor\n",
      "armor di delet\n",
      "{'name': 'dadang', '_Hero__health': 100, '_Hero__armor': None}\n"
     ]
    }
   ],
   "source": [
    "class Hero:\n",
    "    def __init__(self, name, health, armor):\n",
    "        self.name = name\n",
    "        self.__health = health\n",
    "        self.__armor = armor\n",
    "    @property\n",
    "    def info(self):\n",
    "        return \"name {} : \\n\\thealth: {}\".format(self.name,self.__health)\n",
    "    @property\n",
    "    def armor(self):\n",
    "        pass\n",
    "    @armor.getter\n",
    "    def armor(self):\n",
    "        return self.__armor\n",
    "    @armor.setter\n",
    "    def armor(self, input):\n",
    "        self.__armor = input\n",
    "    @armor.deleter\n",
    "    def armor(self):\n",
    "        print('armor di delet')\n",
    "        self.__armor = None\n",
    "\n",
    "sniper = Hero('sniper',100,10)\n",
    "\n",
    "print('merubah info')\n",
    "print(sniper.info)\n",
    "sniper.name = 'dadang'\n",
    "print(sniper.info)\n",
    "\n",
    "print('getter dan setter untuk __armor:')\n",
    "print(sniper.armor)\n",
    "sniper.armor = 50\n",
    "print(sniper.armor)\n",
    "\n",
    "print('delete armor')\n",
    "del sniper.armor\n",
    "print(sniper.__dict__)"
   ]
  },
  {
   "cell_type": "code",
   "execution_count": null,
   "id": "ae99fc9c-7fd4-412e-b3f9-fb2af701a11b",
   "metadata": {},
   "outputs": [],
   "source": []
  }
 ],
 "metadata": {
  "kernelspec": {
   "display_name": "Python 3 (ipykernel)",
   "language": "python",
   "name": "python3"
  },
  "language_info": {
   "codemirror_mode": {
    "name": "ipython",
    "version": 3
   },
   "file_extension": ".py",
   "mimetype": "text/x-python",
   "name": "python",
   "nbconvert_exporter": "python",
   "pygments_lexer": "ipython3",
   "version": "3.11.4"
  }
 },
 "nbformat": 4,
 "nbformat_minor": 5
}
